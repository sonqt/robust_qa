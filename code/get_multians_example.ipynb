{
 "cells": [
  {
   "cell_type": "code",
   "execution_count": 2,
   "metadata": {},
   "outputs": [],
   "source": [
    "import json\n",
    "multians_path = \"/Volumes/Share/tran_s2/SQuAD2_new/data/train-squad-v2-multians.json\"\n",
    "with open(multians_path, 'r') as file:\n",
    "    data = json.load(file)['data']\n",
    "for qa in data:\n",
    "    question = qa['question']\n",
    "    if question == \"What is the name of the water body that is found to the east?\":\n",
    "        print(qa)\n",
    "        break\n"
   ]
  },
  {
   "cell_type": "code",
   "execution_count": null,
   "metadata": {},
   "outputs": [],
   "source": []
  }
 ],
 "metadata": {
  "kernelspec": {
   "display_name": "base",
   "language": "python",
   "name": "python3"
  },
  "language_info": {
   "codemirror_mode": {
    "name": "ipython",
    "version": 3
   },
   "file_extension": ".py",
   "mimetype": "text/x-python",
   "name": "python",
   "nbconvert_exporter": "python",
   "pygments_lexer": "ipython3",
   "version": "3.11.3"
  }
 },
 "nbformat": 4,
 "nbformat_minor": 2
}
