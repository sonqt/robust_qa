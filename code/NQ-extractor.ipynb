{
 "cells": [
  {
   "cell_type": "code",
   "execution_count": 1,
   "metadata": {},
   "outputs": [],
   "source": [
    "import jsonlines\n",
    "\n",
    "nq_path = \"/Volumes/Share/tran_s2/Public_Datasets/NQ_google/dev/dev_jsonl/v1.0-simplified_nq-dev-all.jsonl\"\n",
    "nq_data = []\n",
    "with open(nq_path, \"r\") as file:\n",
    "    reader = jsonlines.Reader(file)\n",
    "    for line in reader:\n",
    "        nq_data.append(line)\n",
    "        \n"
   ]
  },
  {
   "cell_type": "code",
   "execution_count": 2,
   "metadata": {},
   "outputs": [
    {
     "name": "stdout",
     "output_type": "stream",
     "text": [
      "7830\n"
     ]
    }
   ],
   "source": [
    "print(len(nq_data))"
   ]
  },
  {
   "cell_type": "code",
   "execution_count": 3,
   "metadata": {},
   "outputs": [
    {
     "name": "stdout",
     "output_type": "stream",
     "text": [
      "100\n",
      "200\n",
      "300\n",
      "400\n",
      "500\n",
      "600\n",
      "700\n",
      "800\n",
      "900\n",
      "1000\n",
      "1100\n",
      "1200\n",
      "1300\n",
      "1400\n",
      "1500\n",
      "1600\n",
      "1700\n",
      "1800\n",
      "1900\n",
      "2000\n",
      "2100\n",
      "2200\n",
      "2300\n",
      "2400\n",
      "2500\n",
      "2600\n",
      "2700\n",
      "2800\n",
      "2900\n",
      "3000\n",
      "3100\n",
      "3200\n",
      "3300\n",
      "3400\n",
      "3500\n",
      "3600\n",
      "3700\n",
      "3800\n",
      "3900\n",
      "4000\n",
      "4100\n",
      "4200\n",
      "4300\n",
      "4400\n",
      "4500\n",
      "4600\n",
      "4700\n",
      "4800\n",
      "4900\n",
      "5000\n",
      "5100\n",
      "5200\n",
      "5300\n",
      "5400\n",
      "5500\n",
      "5600\n",
      "5700\n",
      "5800\n",
      "5900\n",
      "6000\n",
      "6100\n",
      "6200\n",
      "6300\n",
      "6400\n",
      "6500\n",
      "6600\n",
      "6700\n",
      "6800\n",
      "6900\n",
      "7000\n",
      "7100\n",
      "7200\n",
      "7300\n",
      "7400\n",
      "7500\n",
      "7600\n",
      "7700\n",
      "7800\n"
     ]
    }
   ],
   "source": [
    "from bs4 import BeautifulSoup\n",
    "count_qa = 0\n",
    "nq_processed = []\n",
    "for doc in nq_data:\n",
    "    count_qa += 1\n",
    "    if count_qa % 100 == 0:\n",
    "        print(count_qa)\n",
    "    \n",
    "    answers = {\"answer_start\": [],\"text\": []}\n",
    "    for annotation in doc['annotations']:\n",
    "        try:\n",
    "            answer = annotation['short_answers'][0]\n",
    "            start = int(answer['start_token'])\n",
    "            end = int(answer['end_token'])\n",
    "            answer_tokens = doc['document_tokens'][start:end]\n",
    "            answer = \" \".join([token['token'] for token in answer_tokens])\n",
    "            answers['text'].append(answer)\n",
    "            answers['answer_start'].append(-1)\n",
    "        except:\n",
    "            continue\n",
    "    if len(answers['text']) > 0:\n",
    "        document_text = \" \".join([token['token'] for token in doc['document_tokens']])\n",
    "        cleaned_doc = BeautifulSoup(document_text, 'html.parser').get_text()\n",
    "        question = doc['question_text']\n",
    "        id = str(doc['example_id'])\n",
    "        new_qa = {}\n",
    "        new_qa['id'] = id\n",
    "        new_qa['context'] = cleaned_doc\n",
    "        new_qa['question'] = question\n",
    "        new_qa['answers'] = answers\n",
    "        nq_processed.append(new_qa)"
   ]
  },
  {
   "cell_type": "code",
   "execution_count": 4,
   "metadata": {},
   "outputs": [
    {
     "name": "stdout",
     "output_type": "stream",
     "text": [
      "4289\n"
     ]
    }
   ],
   "source": [
    "print(len(nq_processed))"
   ]
  },
  {
   "cell_type": "code",
   "execution_count": 5,
   "metadata": {},
   "outputs": [],
   "source": [
    "import json\n",
    "to_save = {'data':nq_processed}\n",
    "file_path = '/Volumes/Share/tran_s2/Public_Datasets/NQ/answerable.json'\n",
    "\n",
    "with open(file_path, 'w') as file:\n",
    "    json.dump(to_save, file)"
   ]
  },
  {
   "cell_type": "code",
   "execution_count": 27,
   "metadata": {},
   "outputs": [],
   "source": [
    "import json\n",
    "\n",
    "file_path = \"/Volumes/Share/tran_s2/Public_Datasets/NQ_google/dev/dev_simplified/NQ_google_simplifed.json\"\n",
    "with open(file_path, \"r\") as file:\n",
    "    data = json.load(file)['data']\n"
   ]
  },
  {
   "cell_type": "code",
   "execution_count": 42,
   "metadata": {},
   "outputs": [
    {
     "name": "stdout",
     "output_type": "stream",
     "text": [
      "{'annotation_id': 13591449469826568799, 'long_answer': {'candidate_index': 92, 'end_token': 925, 'start_token': 808}, 'short_answers': [{'end_token': 837, 'start_token': 816}], 'yes_no_answer': 'NONE'}\n",
      "tion mark </Td> <Td> \n",
      "question_text\n",
      "example_id\n",
      "document_url\n",
      "document_text\n",
      "long_answer_candidates\n",
      "annotations\n"
     ]
    }
   ],
   "source": [
    "for doc in data:\n",
    "    cleaned_doc = BeautifulSoup(doc['document_text'], 'html.parser').get_text()\n",
    "    question = doc['question_text']\n",
    "    id = str(doc['example_id'])\n",
    "    answers = {\"answer_start\": [],\"text\": []}\n",
    "\n",
    "    answer = doc['annotations'][0]['short_answers'][0]\n",
    "    start = int(answer['start_token'])\n",
    "    end = int(answer['end_token'])\n",
    "    print(doc['annotations'][0])\n",
    "    print(doc['document_text'][start : end])\n",
    "    for key in doc:\n",
    "        print(key)\n",
    "    break"
   ]
  },
  {
   "cell_type": "code",
   "execution_count": 11,
   "metadata": {},
   "outputs": [
    {
     "data": {
      "image/png": "[encoded data removed]",
      "text/plain": [
       "<Figure size 640x480 with 1 Axes>"
      ]
     },
     "metadata": {},
     "output_type": "display_data"
    }
   ],
   "source": [
    "import matplotlib.pyplot as plt\n",
    "\n",
    "doc_len = []\n",
    "for doc in data:\n",
    "    doc_len.append(len(doc['document_text'].split(\" \")))\n",
    "\n",
    "plt.hist(doc_len, bins=10)\n",
    "plt.xlabel('Document Length')\n",
    "plt.ylabel('Frequency')\n",
    "plt.title('Histogram of Document Length')\n",
    "plt.show()\n"
   ]
  },
  {
   "cell_type": "code",
   "execution_count": 22,
   "metadata": {},
   "outputs": [
    {
     "name": "stdout",
     "output_type": "stream",
     "text": [
      "12836\n"
     ]
    }
   ],
   "source": [
    "import json\n",
    "\n",
    "file_path = \"/Volumes/Share/tran_s2/Public_Datasets/AGent/NQ_answerable_dev.json\"\n",
    "with open(file_path, \"r\") as file:\n",
    "    data = json.load(file)['data']\n",
    "print(len(data))"
   ]
  },
  {
   "cell_type": "code",
   "execution_count": null,
   "metadata": {},
   "outputs": [],
   "source": []
  }
 ],
 "metadata": {
  "kernelspec": {
   "display_name": "base",
   "language": "python",
   "name": "python3"
  },
  "language_info": {
   "codemirror_mode": {
    "name": "ipython",
    "version": 3
   },
   "file_extension": ".py",
   "mimetype": "text/x-python",
   "name": "python",
   "nbconvert_exporter": "python",
   "pygments_lexer": "ipython3",
   "version": "3.11.3"
  }
 },
 "nbformat": 4,
 "nbformat_minor": 2
}
