{
 "cells": [
  {
   "cell_type": "code",
   "execution_count": 7,
   "metadata": {},
   "outputs": [],
   "source": [
    "import json\n",
    "agent_path = \"/Volumes/Share/tran_s2/SQuAD2_new/data/train-squad-agent-multians.json\"\n",
    "agent2_path = \"/Volumes/Share/tran_s2/SQuAD2_new/data/train-squad-v2-multians.json\"\n",
    "\n",
    "# Read data from agent_path\n",
    "with open(agent_path, 'r') as file:\n",
    "    agent_data = json.load(file)['data']\n",
    "\n",
    "# Read data from agent2_path\n",
    "with open(agent2_path, 'r') as file:\n",
    "    squad2_data = json.load(file)['data']\n"
   ]
  },
  {
   "cell_type": "code",
   "execution_count": 15,
   "metadata": {},
   "outputs": [
    {
     "name": "stdout",
     "output_type": "stream",
     "text": [
      "{'id': 'ba3a1b89864f4a54b1dfa6393d634968', 'context': \"When Ibn Sina was 22 years old, he lost his father. The Samanid dynasty came to its end in December 1004. Ibn Sina seems to have declined the offers of Mahmud of Ghazni, and proceeded westwards to Urgench in modern Turkmenistan, where the vizier, regarded as a friend of scholars, gave him a small monthly stipend. The pay was small, however, so Ibn Sina wandered from place to place through the districts of Nishapur and Merv to the borders of Khorasan, seeking an opening for his talents. Qabus, the generous ruler of Tabaristan, himself a poet and a scholar, with whom Ibn Sina had expected to find asylum, was on about that date (1012) starved to death by his troops who had revolted. Ibn Sina himself was at this time stricken by a severe illness. Ibn Sina traveled to Persia after the end of the Samanid dynasty. Finally, at Gorgan, near the Caspian Sea, Ibn Sina met with a friend, who bought a dwelling near his own house in which Ibn Sina lectured on logic and astronomy. Several of Ibn Sina's treatises were written for this patron; and the commencement of his Canon of Medicine also dates from his stay in Hyrcania.\", 'question': 'What modern country did Ibn Sina travel to after the end of the Samanid dynasty?', 'answers': {'answer_start': [215, 774], 'text': ['Turkmenistan', 'Persia']}}\n",
      "{'id': 'eac2698ee14a4fb8be6ecd3438d21e28', 'context': \"Of the 10 most populous U.S. cities, Houston has the most total area of parks and green space, 56,405 acres (228 km2). The city also has over 200 additional green spaces—totaling over 19,600 acres (79 km2) that are managed by the city—including the Houston Arboretum and Nature Center. The Lee and Joe Jamail Skatepark is a public skatepark owned and operated by the city of Houston, and is one of the largest skateparks in Texas consisting of 30,000 (2,800 m2) square foot in-ground facility. Forbes manages Houston's green spaces. The Gerald D. Hines Waterwall Park—located in the Uptown District of the city—serves as a popular tourist attraction, weddings, and various celebrations. A 2011 study by Walk Score ranked Houston the 23rd most walkable of the 50 largest cities in the United States. Wet'n'Wild SplashTown is a water park located north of Houston.\", 'question': \"Who manages Houston's green spaces?\", 'answers': {'answer_start': [226, 494], 'text': ['the city', 'Forbes']}}\n",
      "{'id': '00321aabaa9a46d5838507829bd5f82d', 'context': 'In paragraph 13 the judges raise the issue of the perpetrators\\' access to the victims: \"The historical examples of genocide also suggest that the area of the perpetrators’ activity and control, as well as the possible extent of their reach, should be considered. ... The intent to destroy formed by a perpetrator of genocide will always be limited by the opportunity presented to him. While this factor alone will not indicate whether the targeted group is substantial, it can—in combination with other factors—inform the analysis.\" While the factor cannot independently indicate if the targeted group is substantial, it can have an impact on the group as a whole.', 'question': 'While the factor cannot independently indicate if the targeted group is substantial, it can do what?', 'answers': {'answer_start': [511, 625], 'text': ['inform the analysis', 'have an impact on the group as a whole']}}\n",
      "{'id': '5ef4b1f0adfe4d69946a7041ce198055', 'context': 'Interspecific crop diversity is, in part, responsible for offering variety in what we eat. Intraspecific diversity, the variety of alleles within a single species, also offers us choice in our diets. If a crop fails in a monoculture, we rely on agricultural diversity to replant the land with something new. What type of a society primarily grows monocultures is agriculture. If a wheat crop is destroyed by a pest we may plant a hardier variety of wheat the next year, relying on intraspecific diversity. We may forgo wheat production in that area and plant a different species altogether, relying on interspecific diversity. Even an agricultural society which primarily grows monocultures, relies on biodiversity at some point.', 'question': 'What type of a society primarily grows monocultures?', 'answers': {'answer_start': [635, 363], 'text': ['agricultural society', 'agriculture']}}\n",
      "{'id': '140393c7bbd7479897c20441d43a3c9b', 'context': 'Isabelle Stengers wrote that \"Whiteheadians are recruited among both philosophers and theologians, and the palette has been enriched by practitioners from the most diverse horizons, from ecology to feminism, practices that unite political struggle and spirituality with the sciences of education.\" Indeed, in recent decades attention to Whitehead\\'s work has become more widespread, with interest extending to intellectuals in Europe and China, and coming from such diverse fields as ecology, physics, biology, education, economics, and psychology. According to Isabelle Stengers, his students and admirers are unifying factors in diverse practices (like ecology and feminism) that have become interested in Whitehead\\'s work. One of the first theologians to attempt to interact with Whitehead\\'s thought was the future Archbishop of Canterbury, William Temple. In Temple\\'s Gifford Lectures of 1932-1934 (subsequently published as \"Nature, Man and God\"), Whitehead is one of a number of philosophers of the emergent evolution approach Temple interacts with. However, it was not until the 1970s and 1980s that Whitehead\\'s thought drew much attention outside of a small group of philosophers and theologians, primarily Americans, and even today he is not considered especially influential outside of relatively specialized circles.', 'question': \"According to Isabelle Stengers, what are unifying factors in diverse practices (like ecology and feminism) that have become interested in Whitehead's work?\", 'answers': {'answer_start': [208, 580], 'text': ['practices that unite political struggle and spirituality with the sciences of education', 'his students and admirers']}}\n",
      "{'id': '27c0d320a75e430683c2036c0e10c90b', 'context': 'After Fidel Castro rose to power in Cuba in 1959, many wealthy Cubans sought refuge in Miami, further increasing the population. The city developed businesses and cultural amenities as part of the New South. In the 1980s and 1990s, South Florida weathered social problems related to drug wars, immigration from Haiti and Latin America, and the widespread destruction of Hurricane Andrew. Racial and cultural tensions were sometimes sparked, but the city developed in the latter half of the 20th century as a major international, financial, and cultural center. The largest city in the United States where a majority of the population speaks Spanish is Oklahoma City. It is the second-largest U.S. city (after El Paso, Texas) with a Spanish-speaking majority, and the largest city with a Cuban-American plurality.', 'question': 'What is the largest city in the United States where a majority of the population speaks Spanish?', 'answers': {'answer_start': [709, 652], 'text': ['El Paso, Texas', 'Oklahoma City']}}\n",
      "{'id': 'd69655251690436c82817f99c4d95455', 'context': \"This eventually led to LBJ's Civil Rights Act, which came shortly after President Kennedy's assassination. This document was more holistic than any President Kennedy had offered, and therefore more controversial. It aimed not only to integrate public facilities, but also private businesses that sold to the public, such as motels, restaurants, theaters, and gas stations. Public schools, hospitals, libraries, parks, among other things, were included in the bill as well. It also worked with JFK's executive order 11114 by prohibiting discrimination in the awarding of federal contracts and holding the authority of the government to deny contracts to businesses who discriminate. Maybe most significant of all, Title VII of the Civil Rights Act aimed to end discrimination in all firms with 25 or more employees. The Civil Right's Act worked closely with Executive Order 10925. Another provision established the Equal Employment Opportunity Commission as the agency charged with ending discrimination in the nation's workplace.:74\", 'question': \"Which other Executive Order did the Civil Right's Act work closely with?\", 'answers': {'answer_start': [515, 857], 'text': ['11114', 'Executive Order 10925']}}\n",
      "{'id': 'a55633577e9240cf828cdcbab0b31b6b', 'context': \"Claiming the right to name his discovery, Le Verrier quickly proposed the name Neptune for this new planet, though falsely stating that this had been officially approved by the French Bureau des Longitudes. In October, he sought to name the planet Le Verrier, after himself, and he had loyal support in this from the observatory director, François Arago. This suggestion met with stiff resistance outside France. French almanacs quickly reintroduced the name Herschel for Uranus, after that planet's discoverer Sir William Herschel, and Leverrier for the new planet. What country approved Neptune's first name is Uranus.\", 'question': \"What country approved Neptune's first name? \", 'answers': {'answer_start': [405, 613], 'text': ['France', 'Uranus']}}\n",
      "{'id': '981fcb1baf78468e9fb1d6b13e6e74dc', 'context': 'The purpose of Obstruction is to spontaneously or with treatment. A look at one minority leadership strategy—partisan opposition—may suggest why it might be employed in specific circumstances. The purposes of obstruction are several, such as frustrating the majority party\\'s ability to govern or attracting press and media attention to the alleged ineffectiveness of the majority party. \"We know how to delay,\" remarked Minority Leader Gephardt Dilatory motions to adjourn, appeals of the presiding officer\\'s ruling, or numerous requests for roll call votes are standard time-consuming parliamentary tactics. By stalling action on the majority party\\'s agenda, the minority leader may be able to launch a campaign against a \"do-nothing Congress\" and convince enough voters to put his party back in charge of the House. To be sure, the minority leader recognizes that \"going negative\" carries risks and may not be a winning strategy if his party fails to offer policy alternatives that appeal to broad segments of the general public.', 'question': 'What is the purpose of Obstruction?', 'answers': {'answer_start': [242, 33], 'text': [\"frustrating the majority party's ability to govern or attracting press and media attention to the alleged ineffectiveness\", 'spontaneously or with treatment']}}\n",
      "{'id': 'a32bc3dec12d405e919336b88bd757e0', 'context': 'Major League Baseball is especially well known for red teams. The Cincinnati Red Stockings are the oldest professional baseball team, dating back to 1869. The franchise soon relocated to Boston and is now the Atlanta Braves, but its name survives as the origin for both the Cincinnati Reds and Boston Red Sox. During the 1950s when red was strongly associated with communism, the modern Cincinnati team was known as the \"Redlegs\" and the term was used on baseball cards. After the red scare faded, the team was known as the \"Reds\" again. The Cincinnati Red Stockings became the Chicago Cubs. The Los Angeles Angels of Anaheim are also known for their color red, as are the St. Louis Cardinals, Arizona Diamondbacks, and the Philadelphia Phillies.', 'question': 'What team did the Cincinnati Red Stockings become?', 'answers': {'answer_start': [205, 578], 'text': ['the Atlanta Braves', 'Chicago Cubs']}}\n",
      "10\n"
     ]
    }
   ],
   "source": [
    "count = 0\n",
    "for qas in agent_data:\n",
    "    if len(qas['answers']['text']) == 2:\n",
    "        if qas not in squad2_data:\n",
    "            count += 1\n",
    "            print(qas)\n",
    "            if count == 10:\n",
    "                break\n",
    "print(count)"
   ]
  },
  {
   "cell_type": "code",
   "execution_count": null,
   "metadata": {},
   "outputs": [],
   "source": []
  }
 ],
 "metadata": {
  "kernelspec": {
   "display_name": "base",
   "language": "python",
   "name": "python3"
  },
  "language_info": {
   "codemirror_mode": {
    "name": "ipython",
    "version": 3
   },
   "file_extension": ".py",
   "mimetype": "text/x-python",
   "name": "python",
   "nbconvert_exporter": "python",
   "pygments_lexer": "ipython3",
   "version": "3.11.3"
  }
 },
 "nbformat": 4,
 "nbformat_minor": 2
}
